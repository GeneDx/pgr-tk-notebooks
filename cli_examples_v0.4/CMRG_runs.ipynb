{
 "cells": [
  {
   "cell_type": "code",
   "execution_count": 1,
   "id": "5bb24cd9-1e93-4ca0-bba0-a47738fc7152",
   "metadata": {},
   "outputs": [],
   "source": [
    "import numpy as np\n",
    "import os"
   ]
  },
  {
   "cell_type": "code",
   "execution_count": 6,
   "id": "126fa181-5a4d-43b2-a062-f819483dc0bc",
   "metadata": {},
   "outputs": [],
   "source": [
    "out = open(\"/code/CMRG_ext_GRCh38.bed.roi\", \"w\")\n",
    "with open(\"/code/CMRG_ext_GRCh38.bed\") as f:\n",
    "    for r in f:\n",
    "        r = r.strip().split()\n",
    "        print(r[3], \"hg38_tagged.fa\", \"chr\"+r[0]+\"_hg38\", r[1], r[2], 0, sep=\"\\t\", file=out)\n",
    "out.close()"
   ]
  },
  {
   "cell_type": "code",
   "execution_count": 7,
   "id": "4bc26912-53a3-48f0-9868-3e664b2cfd35",
   "metadata": {},
   "outputs": [],
   "source": [
    "%%bash\n",
    "mkdir -p /wd/results/cmrg-out\n",
    "mkdir -p /wd/results/cmrg-out/svg"
   ]
  },
  {
   "cell_type": "code",
   "execution_count": 8,
   "id": "51796f72-7a2a-453b-8666-d16eebd1527b",
   "metadata": {
    "tags": []
   },
   "outputs": [
    {
     "name": "stderr",
     "output_type": "stream",
     "text": [
      "\tCommand being timed: \"/wd/code/pgr-fetch-seqs /wd/data/pgr-tk-HGRP-y1-evaluation-set-v0 -r /code/CMRG_ext_GRCh38.bed.roi\"\n",
      "\tUser time (seconds): 27.33\n",
      "\tSystem time (seconds): 423.20\n",
      "\tPercent of CPU this job got: 1224%\n",
      "\tElapsed (wall clock) time (h:mm:ss or m:ss): 0:36.79\n",
      "\tAverage shared text size (kbytes): 0\n",
      "\tAverage unshared data size (kbytes): 0\n",
      "\tAverage stack size (kbytes): 0\n",
      "\tAverage total size (kbytes): 0\n",
      "\tMaximum resident set size (kbytes): 37368008\n",
      "\tAverage resident set size (kbytes): 0\n",
      "\tMajor (requiring I/O) page faults: 0\n",
      "\tMinor (reclaiming a frame) page faults: 11107218\n",
      "\tVoluntary context switches: 1088574\n",
      "\tInvoluntary context switches: 721\n",
      "\tSwaps: 0\n",
      "\tFile system inputs: 0\n",
      "\tFile system outputs: 43368\n",
      "\tSocket messages sent: 0\n",
      "\tSocket messages received: 0\n",
      "\tSignals delivered: 0\n",
      "\tPage size (bytes): 4096\n",
      "\tExit status: 0\n"
     ]
    }
   ],
   "source": [
    "%%bash\n",
    "\\time -v /wd/code/pgr-fetch-seqs /wd/data/pgr-tk-HGRP-y1-evaluation-set-v0 \\\n",
    "-r /code/CMRG_ext_GRCh38.bed.roi > /wd/results/cmrg-out/ROI_seq.fa"
   ]
  },
  {
   "cell_type": "code",
   "execution_count": 9,
   "id": "407bc3b9-f888-4cce-a795-5bedfcfcf2b3",
   "metadata": {},
   "outputs": [
    {
     "name": "stderr",
     "output_type": "stream",
     "text": [
      "\tCommand being timed: \"/wd/code/pgr-query /wd/data/pgr-tk-HGRP-y1-evaluation-set-v0 /wd/results/cmrg-out/ROI_seq.fa /wd/results/cmrg-out/pg_seqs --merge-range-tol 100000\"\n",
      "\tUser time (seconds): 128.44\n",
      "\tSystem time (seconds): 327.66\n",
      "\tPercent of CPU this job got: 311%\n",
      "\tElapsed (wall clock) time (h:mm:ss or m:ss): 2:26.28\n",
      "\tAverage shared text size (kbytes): 0\n",
      "\tAverage unshared data size (kbytes): 0\n",
      "\tAverage stack size (kbytes): 0\n",
      "\tAverage total size (kbytes): 0\n",
      "\tMaximum resident set size (kbytes): 38025412\n",
      "\tAverage resident set size (kbytes): 0\n",
      "\tMajor (requiring I/O) page faults: 0\n",
      "\tMinor (reclaiming a frame) page faults: 15685631\n",
      "\tVoluntary context switches: 1648414\n",
      "\tInvoluntary context switches: 61036\n",
      "\tSwaps: 0\n",
      "\tFile system inputs: 0\n",
      "\tFile system outputs: 5183080\n",
      "\tSocket messages sent: 0\n",
      "\tSocket messages received: 0\n",
      "\tSignals delivered: 0\n",
      "\tPage size (bytes): 4096\n",
      "\tExit status: 0\n"
     ]
    }
   ],
   "source": [
    "%%bash\n",
    "\\time -v /wd/code/pgr-query /wd/data/pgr-tk-HGRP-y1-evaluation-set-v0 \\\n",
    "/wd/results/cmrg-out/ROI_seq.fa /wd/results/cmrg-out/pg_seqs --merge-range-tol 100000"
   ]
  },
  {
   "cell_type": "code",
   "execution_count": 10,
   "id": "9c0fef43-fa7c-47e6-8861-5a2f09c7c740",
   "metadata": {},
   "outputs": [],
   "source": [
    "target_seqs = {}\n",
    "\n",
    "with open(\"/wd/results/cmrg-out/pg_seqs.hit\") as f:\n",
    "    for row in f:\n",
    "        row = row.strip().split(\"\\t\")\n",
    "        if row[0][0] == \"#\":\n",
    "            continue\n",
    "        (q_idx, q_name, query_bgn, query_end, q_len, aln_anchor_count, \n",
    "        src, ctg, ctg_bgn, ctg_end, orientation, out_seq_name) = row\n",
    "        query_bgn = int(query_bgn)\n",
    "        query_end = int(query_end)\n",
    "        ctg_bgn = int(ctg_bgn)\n",
    "        ctg_end = int(ctg_end)\n",
    "        q_len = int(q_len)\n",
    "        if query_bgn > 12000 or q_len - query_end > 12000:\n",
    "            continue\n",
    "        if abs(ctg_end-ctg_bgn) > q_len * 3:\n",
    "            continue\n",
    "        target_seqs.setdefault( (q_idx, q_name), [])\n",
    "        target_seqs[(q_idx, q_name)].append( (out_seq_name, abs(ctg_end - ctg_bgn)) )"
   ]
  },
  {
   "cell_type": "code",
   "execution_count": null,
   "id": "7d5eba88-42a5-4268-89f8-9856f6824fcf",
   "metadata": {},
   "outputs": [
    {
     "name": "stdout",
     "output_type": "stream",
     "text": [
      "000 EXTL2 97 21954.907216494845 21356 22110 2\n",
      "001 AGRN 97 34632.85567010309 34038 35708 2\n",
      "002 GSTM1 87 17632.344827586207 7007 45565 2\n",
      "003 MASP2 97 19399.41237113402 18968 19836 2\n",
      "004 LRIG2 97 58244.52577319588 57065 58945 2\n",
      "005 VANGL1 97 53778.969072164946 48334 55856 2\n",
      "006 NPPA 71 1733.5915492957747 311 2185 2\n",
      "007 NOTCH2 98 188974.97959183675 188019 194999 3\n"
     ]
    }
   ],
   "source": [
    "for q_idx, q_name in target_seqs:\n",
    "\n",
    "    total_len = 0\n",
    "    c = 0\n",
    "    include_file = f\"/wd/results/cmrg-out/{q_name}_included_ctgs.{q_idx}\"\n",
    "    with open(include_file, \"w\") as f:\n",
    "        for out_seq_name, l in target_seqs[(q_idx, q_name)]:\n",
    "            c += 1\n",
    "            print(out_seq_name, file=f)\n",
    "\n",
    "    lengths = [_[1] for _ in target_seqs[(q_idx, q_name)]]\n",
    "\n",
    "\n",
    "    fasta_file = f\"/wd/results/cmrg-out/pg_seqs.{q_idx}.fa\"\n",
    "    prefix = f\"{q_name}_pg_seqs.{q_idx}.\"\n",
    "\n",
    "    r = int( 2 * (np.mean(lengths)/50000)**0.5)\n",
    "    if r < 2:\n",
    "        r = 2\n",
    "    if r > 12:\n",
    "        r = 12\n",
    "    print(q_idx, q_name, len(lengths), np.mean(lengths), min(lengths), max(lengths), r)\n",
    "    os.system(f\"\"\"/wd/code/pgr-pbundle-decomp -w 48 -k 56 -r {r} \\\n",
    "              --min-span 12 --bundle-length-cutoff 100 --min-branch-size 8 \\\n",
    "              {fasta_file} /wd/results/cmrg-out/{prefix} \\\n",
    "              --min-cov 0 --include {include_file}\"\"\")\n",
    "    bed_file = f\"/wd/results/cmrg-out/{prefix}bed\"\n",
    "    os.system(f\"/wd/code/pgr-pbundle-bed2sorted {bed_file} /wd/results/cmrg-out/{prefix}\")\n",
    "    ord_file = f\"/wd/results/cmrg-out/{prefix}ord\"\n",
    "    os.system(\"cat \" + ord_file + \" | awk '{print $1\\\"\\\\t\\\"$1}' > \" + ord_file + \"2\")\n",
    "    track_range = 10000*(int(max(lengths) / 10000) + 1)\n",
    "    # print(bed_file)\n",
    "    os.system(f\"\"\"/wd/code/pgr-pbundle-bed2svg {bed_file} /wd/results/cmrg-out/svg/{prefix} \\\n",
    "              --track-range {track_range} --track-tick-interval 10000 \\\n",
    "              --track-panel-width 1200 \\\n",
    "              --stroke-width 1.2  --annotations /wd/results/cmrg-out/{prefix}ord2\"\"\")\n",
    "\n",
    "\n",
    "    os.system(f\"/wd/code/pgr-pbundle-bed2dist {bed_file} /wd/results/cmrg-out/{prefix}\")\n",
    "    os.system(f\"\"\"/wd/code/pgr-pbundle-bed2svg {bed_file} /wd/results/cmrg-out/svg/{prefix}hc. \\\n",
    "              --track-range {track_range} --track-tick-interval 10000 \\\n",
    "              --track-panel-width 1200 --stroke-width 0.5 \\\n",
    "              --annotations /wd/results/cmrg-out/{prefix}ord2 \\\n",
    "              --ddg-file /wd/results/cmrg-out/{prefix}ddg \\\n",
    "              --highlight-repeats 3\"\"\")"
   ]
  },
  {
   "cell_type": "code",
   "execution_count": null,
   "id": "db809d54-131a-4d21-aaf1-1a09b47610d8",
   "metadata": {},
   "outputs": [],
   "source": []
  }
 ],
 "metadata": {
  "kernelspec": {
   "display_name": "Python 3 (ipykernel)",
   "language": "python",
   "name": "python3"
  },
  "language_info": {
   "codemirror_mode": {
    "name": "ipython",
    "version": 3
   },
   "file_extension": ".py",
   "mimetype": "text/x-python",
   "name": "python",
   "nbconvert_exporter": "python",
   "pygments_lexer": "ipython3",
   "version": "3.8.10"
  }
 },
 "nbformat": 4,
 "nbformat_minor": 5
}
