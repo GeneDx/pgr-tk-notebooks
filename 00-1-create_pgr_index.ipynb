{
 "cells": [
  {
   "cell_type": "code",
   "execution_count": 1,
   "id": "7e41163d",
   "metadata": {},
   "outputs": [
    {
     "name": "stdout",
     "output_type": "stream",
     "text": [
      "pgr-mdb pgr-bin 0.3.2 (main:2045adc, release build, linux [x86_64] [rustc 1.62.0 (a8314ef7d 2022-06-27)])\n",
      "create pgr minimizer db\n",
      "\n",
      "USAGE:\n",
      "    pgr-mdb [OPTIONS] <FILEPATH> <PREFIX>\n",
      "\n",
      "ARGS:\n",
      "    <FILEPATH>    \n",
      "    <PREFIX>      \n",
      "\n",
      "OPTIONS:\n",
      "    -h, --help                   Print help information\n",
      "    -k, --k <K>                  minimizer k-mer size [default: 56]\n",
      "    -m, --min-span <MIN_SPAN>    min span for neighboring minimiers [default: 64]\n",
      "    -r, --r <R>                  sparse minimizer (shimmer) reduction factor [default: 4]\n",
      "    -s, --sketch                 using sketch k-mer than minimizer\n",
      "    -V, --version                Print version information\n",
      "    -w, --w <W>                  minimizer window size [default: 80]\n"
     ]
    }
   ],
   "source": [
    "%%bash\n",
    "/code/pgr-mdb --help"
   ]
  },
  {
   "cell_type": "code",
   "execution_count": 2,
   "id": "6c938aa8",
   "metadata": {},
   "outputs": [
    {
     "name": "stdout",
     "output_type": "stream",
     "text": [
      "pgr-mdb pgr-bin 0.3.2 (main:2045adc, release build, linux [x86_64] [rustc 1.62.0 (a8314ef7d 2022-06-27)])\n"
     ]
    }
   ],
   "source": [
    "%%bash\n",
    "/code/pgr-mdb --version"
   ]
  },
  {
   "cell_type": "markdown",
   "id": "14167273",
   "metadata": {},
   "source": [
    "Creating and Timing for creating the PGR- himmer index. Note the input file should contains a list of files in agc or fasta / fastq format.\n",
    "\n",
    "Example:\n",
    "```\n",
    "$ echo HPRC-y1-rebuild-04252022.agc > filelist\n",
    "  \n",
    "# using pgr-mdb to create the index files, for 97 haplotyed genome assembly from HPRC year one release,\n",
    "# it takes about 30 to 40 min to create the index files\n",
    "\n",
    "$ pgr-mdb filelist HPRC-y1-rebuild-04252022\n",
    "\n",
    "# two index files will be created by the pgr-mdb command\n",
    "# one with a suffix .mdb and another one with a suffix .midx\n",
    "# when we use the load_from_agc_index() method, all three files, e.g., genomes.agc, genomes.mdb and\n",
    "# genomes.midx should have the same prefix as the parameter used to call  load_from_agc_index() method\n",
    "```"
   ]
  },
  {
   "cell_type": "code",
   "execution_count": 3,
   "id": "7af519d4",
   "metadata": {},
   "outputs": [
    {
     "name": "stderr",
     "output_type": "stream",
     "text": [
      "\tCommand being timed: \"/code/pgr-mdb /scratch/pgr-tk-HGRP-y1-evaluation-set-v0_input /scratch/pgr-tk-HGRP-y1-evaluation-set-v0\"\n",
      "\tUser time (seconds): 10812.93\n",
      "\tSystem time (seconds): 348.74\n",
      "\tPercent of CPU this job got: 1089%\n",
      "\tElapsed (wall clock) time (h:mm:ss or m:ss): 17:04.90\n",
      "\tAverage shared text size (kbytes): 0\n",
      "\tAverage unshared data size (kbytes): 0\n",
      "\tAverage stack size (kbytes): 0\n",
      "\tAverage total size (kbytes): 0\n",
      "\tMaximum resident set size (kbytes): 61238280\n",
      "\tAverage resident set size (kbytes): 0\n",
      "\tMajor (requiring I/O) page faults: 0\n",
      "\tMinor (reclaiming a frame) page faults: 173548943\n",
      "\tVoluntary context switches: 3628008\n",
      "\tInvoluntary context switches: 2636935\n",
      "\tSwaps: 0\n",
      "\tFile system inputs: 0\n",
      "\tFile system outputs: 30902112\n",
      "\tSocket messages sent: 0\n",
      "\tSocket messages received: 0\n",
      "\tSignals delivered: 0\n",
      "\tPage size (bytes): 4096\n",
      "\tExit status: 0\n"
     ]
    }
   ],
   "source": [
    "%%bash\n",
    "cd /scratch/\n",
    "find /scratch/ -name \"pgr-tk-HGRP-y1-evaluation-set-v0.agc\" > /scratch/pgr-tk-HGRP-y1-evaluation-set-v0_input\n",
    "\\time -v /code/pgr-mdb /scratch/pgr-tk-HGRP-y1-evaluation-set-v0_input /scratch/pgr-tk-HGRP-y1-evaluation-set-v0"
   ]
  },
  {
   "cell_type": "code",
   "execution_count": 4,
   "id": "548fbc77",
   "metadata": {},
   "outputs": [
    {
     "name": "stdout",
     "output_type": "stream",
     "text": [
      "ls: cannot access '/scratch/HPRC-y1-pgr-tk-analysis-set*': No such file or directory\n"
     ]
    }
   ],
   "source": [
    "!ls -lh /scratch/HPRC-y1-pgr-tk-analysis-set*"
   ]
  },
  {
   "cell_type": "code",
   "execution_count": null,
   "id": "b2f00a3c",
   "metadata": {},
   "outputs": [],
   "source": []
  }
 ],
 "metadata": {
  "kernelspec": {
   "display_name": "Python 3",
   "language": "python",
   "name": "python3"
  },
  "language_info": {
   "codemirror_mode": {
    "name": "ipython",
    "version": 3
   },
   "file_extension": ".py",
   "mimetype": "text/x-python",
   "name": "python",
   "nbconvert_exporter": "python",
   "pygments_lexer": "ipython3",
   "version": "3.8.5"
  }
 },
 "nbformat": 4,
 "nbformat_minor": 5
}
