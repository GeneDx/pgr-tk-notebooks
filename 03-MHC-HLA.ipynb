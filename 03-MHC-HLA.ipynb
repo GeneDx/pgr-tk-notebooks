{
 "cells": [
  {
   "cell_type": "markdown",
   "metadata": {},
   "source": [
    "## Install the PGR-TK package"
   ]
  },
  {
   "cell_type": "markdown",
   "metadata": {},
   "source": [
    "If neccessary, install the package into your python environment \n",
    "```\n",
    "pip install --force /code/pgrtk-0.3.2-cp38-cp38-linux_x86_64.whl\n",
    "```"
   ]
  },
  {
   "cell_type": "code",
   "execution_count": 1,
   "metadata": {},
   "outputs": [],
   "source": [
    "import pgrtk\n",
    "import os\n",
    "import matplotlib.pyplot as plt\n",
    "from IPython.display import SVG\n",
    "%matplotlib inline"
   ]
  },
  {
   "cell_type": "code",
   "execution_count": 2,
   "metadata": {},
   "outputs": [
    {
     "data": {
      "text/plain": [
       "'pgrtk 0.3.2 (main:00d8eb3, release build, linux [x86_64] [rustc 1.62.0 (a8314ef7d 2022-06-27)])'"
      ]
     },
     "execution_count": 2,
     "metadata": {},
     "output_type": "execute_result"
    }
   ],
   "source": [
    "pgrtk.__version__"
   ]
  },
  {
   "cell_type": "code",
   "execution_count": 3,
   "metadata": {},
   "outputs": [],
   "source": [
    "os.chdir(\"/results\")"
   ]
  },
  {
   "cell_type": "markdown",
   "metadata": {},
   "source": [
    "## Lazy load the the AGCfile for fetching sequences"
   ]
  },
  {
   "cell_type": "code",
   "execution_count": 4,
   "metadata": {},
   "outputs": [],
   "source": [
    "ref_db =pgrtk.AGCFile(\"/data/pgr-tk-HGRP-y1-evaluation-set-v0.agc\") # lazy load an agc file of the reference without any SHIMMER index "
   ]
  },
  {
   "cell_type": "markdown",
   "metadata": {},
   "source": [
    "## Load the index into memory\n",
    "The loads the index into the memory. It takes about one minute."
   ]
  },
  {
   "cell_type": "code",
   "execution_count": 5,
   "metadata": {
    "tags": []
   },
   "outputs": [
    {
     "name": "stdout",
     "output_type": "stream",
     "text": [
      "CPU times: user 19.7 s, sys: 2min 20s, total: 2min 40s\n",
      "Wall time: 2min 2s\n"
     ]
    }
   ],
   "source": [
    "%%time\n",
    "sdb = pgrtk.SeqIndexDB()\n",
    "sdb.load_from_agc_index(\"/data/pgr-tk-HGRP-y1-evaluation-set-v0\")"
   ]
  },
  {
   "cell_type": "markdown",
   "metadata": {},
   "source": [
    "We can see the specification about how SHIMMERs are computed using the `get_shmmr_spec()` method. "
   ]
  },
  {
   "cell_type": "code",
   "execution_count": 6,
   "metadata": {},
   "outputs": [
    {
     "data": {
      "text/plain": [
       "(80, 56, 4, 64, False)"
      ]
     },
     "execution_count": 6,
     "metadata": {},
     "output_type": "execute_result"
    }
   ],
   "source": [
    "sdb.get_shmmr_spec() # window_size, k_mer_size, hieraical_reduction_factor, min_span, use_k_mer_sketch_other_than_minimizer"
   ]
  },
  {
   "cell_type": "markdown",
   "metadata": {
    "tags": []
   },
   "source": [
    "## Query the database with HLA-Class II region sequences "
   ]
  },
  {
   "cell_type": "markdown",
   "metadata": {},
   "source": [
    "We use a copy of the annotation for IGV hg19 to look up the chromosome and locations of the gene of interest.\n",
    "We can fetch the region of interest with `ref_db`. Let's fetch the whole region and do a dot plot to examine the repeat structure. "
   ]
  },
  {
   "cell_type": "code",
   "execution_count": 7,
   "metadata": {},
   "outputs": [
    {
     "name": "stdout",
     "output_type": "stream",
     "text": [
      "49\n"
     ]
    },
    {
     "data": {
      "text/plain": [
       "(0.0, 828999.0)"
      ]
     },
     "execution_count": 7,
     "metadata": {},
     "output_type": "execute_result"
    },
    {
     "data": {
      "image/png": "[encoded data removed]",
      "text/plain": [
       "<Figure size 432x288 with 1 Axes>"
      ]
     },
     "metadata": {
      "needs_background": "light"
     },
     "output_type": "display_data"
    }
   ],
   "source": [
    "ref_file_name, roi_chr, roi_b, roi_e = 'hg19_tagged.fa', \"chr6_hg19\", 32130918, 32959917\n",
    "padding = 0\n",
    "\n",
    "#get a segment of a reference\n",
    "roi_seq = ref_db.get_sub_seq(ref_file_name, roi_chr, roi_b-padding, roi_e+padding)\n",
    "x, y = pgrtk.get_shmmr_dots(roi_seq, roi_seq, 32, 32, 2, 2)\n",
    "plt.plot(x, y, \".\", markersize=0.5)\n",
    "print(x[0])\n",
    "plt.xlim(0,len(roi_seq))\n",
    "plt.ylim(0,len(roi_seq))"
   ]
  },
  {
   "cell_type": "code",
   "execution_count": 8,
   "metadata": {},
   "outputs": [
    {
     "name": "stdout",
     "output_type": "stream",
     "text": [
      "The number of hits is 114\n",
      "The total aligned regions is 147\n"
     ]
    }
   ],
   "source": [
    "#find hits in the pangenomic reference\n",
    "aln_range = pgrtk.query_sdb(sdb, roi_seq, merge_range_tol=200000)\n",
    "\n",
    "print(\"The number of hits is\", len(aln_range))\n",
    "\n",
    "count = 0\n",
    "for sid, rgns in aln_range.items():\n",
    "    count += len(rgns)\n",
    "\n",
    "print(\"The total aligned regions is\", count)"
   ]
  },
  {
   "cell_type": "markdown",
   "metadata": {},
   "source": [
    "We can examine, the target region sizes."
   ]
  },
  {
   "cell_type": "code",
   "execution_count": 9,
   "metadata": {},
   "outputs": [
    {
     "name": "stdout",
     "output_type": "stream",
     "text": [
      "('HG02818#1#JAHEOS010000026.1', 'HG02818.paternal.f1_assembly_v2_genbank.fa', 27438479) target region 3503365 - 4325934 len: 822569\n",
      "('HG02886#1#JAHAOU010000006.1', 'HG02886.paternal.f1_assembly_v2_genbank.fa', 55496981) target region 22522980 - 23317712 len: 794732\n",
      "('chr6_GL000250v2_alt_hg38', 'hg38_tagged.fa', 4672374) target region 3497464 - 3812023 len: 314559\n",
      "('HG03453#2#JAGYVV010000230.1', 'HG03453.maternal.f1_assembly_v2_genbank.fa', 5546504) target region 3402532 - 4193513 len: 790981\n",
      "('HG02145#1#JAHKSG010000017.1', 'HG02145.paternal.f1_assembly_v2_genbank.fa', 11219473) target region 6953506 - 7772155 len: 818649\n",
      "('HG01175#2#JAHALZ010000032.1', 'HG01175.maternal.f1_assembly_v2_genbank.fa', 31257284) target region 23360059 - 24179654 len: 819595\n",
      "('HG00733#1#JAHEPQ010000070.1', 'HG00733.paternal.f1_assembly_v2_genbank.fa', 39879370) target region 32136286 - 32923993 len: 787707\n",
      "('HG03453#1#JAGYVW010000148.1', 'HG03453.paternal.f1_assembly_v2_genbank.fa', 5669647) target region 1359413 - 1711637 len: 352224\n",
      "('HG00438#1#JAHBCB010000040.1', 'HG00438.paternal.f1_assembly_v2_genbank.fa', 31169400) target region 23356561 - 24160522 len: 803961\n",
      "('HG03540#1#JAGYVY010000082.1', 'HG03540.paternal.f1_assembly_v2_genbank.fa', 23258697) target region 16945983 - 17757447 len: 811464\n",
      "('HG00735#1#JAHBCH010000013.1', 'HG00735.paternal.f1_assembly_v2_genbank.fa', 39978829) target region 32215406 - 33034378 len: 818972\n",
      "('HG02559#2#JAGYVJ010000064.1', 'HG02559.maternal.f1_assembly_v2_genbank.fa', 59272483) target region 32122253 - 32942017 len: 819764\n",
      "('HG01243#1#JAHEOY010000117.1', 'HG01243.paternal.f1_assembly_v2_genbank.fa', 5690930) target region 3438255 - 4238724 len: 800469\n",
      "('HG03492#1#JAHEPI010000049.1', 'HG03492.paternal.f1_assembly_v2_genbank.fa', 20121680) target region 15861252 - 16689804 len: 828552\n",
      "('HG01071#1#JAHBCF010000017.1', 'HG01071.paternal.f1_assembly_v2_genbank.fa', 18736761) target region 299013 - 597352 len: 298339\n",
      "('HG02622#1#JAHAOO010000042.1', 'HG02622.paternal.f1_assembly_v2_genbank.fa', 33929730) target region 27501039 - 27783009 len: 281970\n",
      "('HG01123#1#JAGYYZ010000057.1', 'HG01123.paternal.f1_assembly_v2_genbank.fa', 32172171) target region 25895025 - 26182990 len: 287965\n",
      "('HG00741#2#JAHALX010000077.1', 'HG00741.maternal.f1_assembly_v2_genbank.fa', 33608122) target region 25651940 - 26443114 len: 791174\n",
      "('chr6_qbl_hap6_hg19', 'hg19_tagged.fa', 4611984) target region 3393290 - 4184339 len: 791049\n",
      "('HG01978#2#JAGYVR010000046.1', 'HG01978.maternal.f1_assembly_v2_genbank.fa', 9459559) target region 1449927 - 1807865 len: 357938\n",
      "('chr6_cox_hap2_hg19', 'hg19_tagged.fa', 4795371) target region 3602951 - 4403309 len: 800358\n",
      "('HG00741#1#JAHALY010000025.1', 'HG00741.paternal.f1_assembly_v2_genbank.fa', 56286211) target region 23365046 - 24159700 len: 794654\n",
      "('HG01891#2#JAGYVN010000027.1', 'HG01891.maternal.f1_assembly_v2_genbank.fa', 33395144) target region 27120084 - 27919956 len: 799872\n",
      "('NA21309#2#JAHEPB010000021.1', 'NA21309.maternal.f1_assembly_v2_genbank.fa', 26636088) target region 3340145 - 4140416 len: 800271\n",
      "('HG02572#2#JAHAOV010000201.1', 'HG02572.maternal.f1_assembly_v2_genbank.fa', 10833350) target region 5332858 - 6134375 len: 801517\n",
      "('HG01978#1#JAGYVS010000035.1', 'HG01978.paternal.f1_assembly_v2_genbank.fa', 60616846) target region 32160188 - 32981440 len: 821252\n",
      "('HG01928#1#JAGYVQ010000020.1', 'HG01928.paternal.f1_assembly_v2_genbank.fa', 40778302) target region 27374381 - 27732067 len: 357686\n",
      "('chr6_hg19', 'hg19_tagged.fa', 171115067) target region 32131290 - 32959865 len: 828575\n",
      "('HG01109#1#JAHEPA010000084.1', 'HG01109.paternal.f1_assembly_v2_genbank.fa', 34924654) target region 27049277 - 27790253 len: 740976\n",
      "('HG03516#1#JAGYYT010000073.1', 'HG03516.paternal.f1_assembly_v2_genbank.fa', 43524149) target region 23126159 - 23920647 len: 794488\n",
      "('HG01258#2#JAGYYU010000011.1', 'HG01258.maternal.f1_assembly_v2_genbank.fa', 39568798) target region 26230380 - 27044764 len: 814384\n",
      "('HG02622#2#JAHAON010000041.1', 'HG02622.maternal.f1_assembly_v2_genbank.fa', 60041455) target region 32133713 - 32447811 len: 314098\n",
      "('HG03098#1#JAHEPM010000086.1', 'HG03098.paternal.f1_assembly_v2_genbank.fa', 26959022) target region 22525026 - 22888592 len: 363566\n",
      "('HG01358#1#JAGYZB010000008.1', 'HG01358.paternal.f1_assembly_v2_genbank.fa', 39988763) target region 6939649 - 7296770 len: 357121\n",
      "('HG00621#1#JAHBCD010000020.1', 'HG00621.paternal.f1_assembly_v2_genbank.fa', 56350629) target region 23360091 - 23711816 len: 351725\n",
      "('HG03516#2#JAGYYS010000003.1', 'HG03516.maternal.f1_assembly_v2_genbank.fa', 59716798) target region 32273514 - 33096539 len: 823025\n",
      "('HG01358#2#JAGYZA010000082.1', 'HG01358.maternal.f1_assembly_v2_genbank.fa', 13116737) target region 6957238 - 7752650 len: 795412\n",
      "('HG02559#1#JAGYVK010000047.1', 'HG02559.paternal.f1_assembly_v2_genbank.fa', 59967020) target region 32167236 - 32465007 len: 297771\n",
      "('HG005#2#JAHEPN010000064.1', 'HG005.maternal.f1_assembly_v2_genbank.fa', 33628824) target region 7040698 - 7339378 len: 298680\n",
      "('HG03492#2#JAHEPH010000100.1', 'HG03492.maternal.f1_assembly_v2_genbank.fa', 11165420) target region 3433872 - 4223369 len: 789497\n",
      "('HG005#1#JAHEPO010000054.1', 'HG005.paternal.f1_assembly_v2_genbank.fa', 31959783) target region 5320458 - 5618569 len: 298111\n",
      "('NA18906#1#JAHEOO010000017.1', 'NA18906.paternal.f1_assembly_v2_genbank.fa', 34516894) target region 28384491 - 29178977 len: 794486\n",
      "('HG02257#1#JAGYVI010000022.1', 'HG02257.paternal.f1_assembly_v2_genbank.fa', 35352640) target region 27484494 - 28280971 len: 796477\n",
      "('HG00733#2#JAHEPP010000060.1', 'HG00733.maternal.f1_assembly_v2_genbank.fa', 27483925) target region 26893186 - 27481359 len: 588173\n",
      "('HG02055#2#JAHEPJ010000058.1', 'HG02055.maternal.f1_assembly_v2_genbank.fa', 27275867) target region 23120171 - 23914366 len: 794195\n",
      "('HG01123#2#JAGYYY010000050.1', 'HG01123.maternal.f1_assembly_v2_genbank.fa', 59396933) target region 32147422 - 32970028 len: 822606\n",
      "('HG02080#2#JAHEOV010000002.1', 'HG02080.maternal.f1_assembly_v2_genbank.fa', 31364656) target region 23360926 - 23649661 len: 288735\n",
      "('HG01243#2#JAHEOX010000097.1', 'HG01243.maternal.f1_assembly_v2_genbank.fa', 30954732) target region 26625704 - 27447351 len: 821647\n",
      "('HG00733#2#JAHEPP010000166.1', 'HG00733.maternal.f1_assembly_v2_genbank.fa', 551833) target region 5000 - 204370 len: 199370\n",
      "('HG00438#2#JAHBCA010000042.1', 'HG00438.maternal.f1_assembly_v2_genbank.fa', 56346258) target region 23361552 - 23719816 len: 358264\n",
      "('HG03540#2#JAGYVX010000013.1', 'HG03540.maternal.f1_assembly_v2_genbank.fa', 29520975) target region 23368683 - 24125419 len: 756736\n",
      "('HG01175#1#JAHAMA010000069.1', 'HG01175.paternal.f1_assembly_v2_genbank.fa', 11224566) target region 6945713 - 7774312 len: 828599\n",
      "('chr6_KI270758v1_alt_hg38', 'hg38_tagged.fa', 76752) target region 681 - 58584 len: 57903\n",
      "('chr6_dbb_hap3_hg19', 'hg19_tagged.fa', 4610396) target region 3481454 - 3709418 len: 227964\n",
      "('chr6_mann_hap4_hg19', 'hg19_tagged.fa', 4683263) target region 3475673 - 3773416 len: 297743\n",
      "('HG01952#1#JAHAME010000044.1', 'HG01952.paternal.f1_assembly_v2_genbank.fa', 33720779) target region 27450161 - 28271020 len: 820859\n",
      "('chr6_ssto_hap7_hg19', 'hg19_tagged.fa', 4928567) target region 3480367 - 3778125 len: 297758\n",
      "('HG03098#2#JAHEPL010000070.1', 'HG03098.maternal.f1_assembly_v2_genbank.fa', 28806995) target region 22510938 - 22862038 len: 351100\n",
      "('NA21309#1#JAHEPC010000026.1', 'NA21309.paternal.f1_assembly_v2_genbank.fa', 27383785) target region 3438116 - 4255912 len: 817796\n",
      "('chr6_hg38', 'hg38_tagged.fa', 170805979) target region 32163513 - 32992088 len: 828575\n",
      "('HG02486#1#JAGYVM010000005.1', 'HG02486.paternal.f1_assembly_v2_genbank.fa', 34332109) target region 26401396 - 27227220 len: 825824\n",
      "('HG02723#1#JAHEOU010000100.1', 'HG02723.paternal.f1_assembly_v2_genbank.fa', 28982488) target region 5052082 - 5841973 len: 789891\n",
      "('HG01106#1#JAHAMC010000024.1', 'HG01106.paternal.f1_assembly_v2_genbank.fa', 39876757) target region 6939124 - 7736742 len: 797618\n",
      "('HG01928#2#JAGYVP010000017.1', 'HG01928.maternal.f1_assembly_v2_genbank.fa', 59868708) target region 32100107 - 32398425 len: 298318\n",
      "('HG03486#2#JAHEOP010000002.1', 'HG03486.maternal.f1_assembly_v2_genbank.fa', 27376079) target region 3432636 - 4232522 len: 799886\n",
      "('HG002#2#JAHKSD010000045.1', 'HG002.maternal.f1_assembly_v2_genbank.fa', 32356768) target region 26179067 - 26986295 len: 807228\n",
      "('HG02145#2#JAHKSF010000005.1', 'HG02145.maternal.f1_assembly_v2_genbank.fa', 20185610) target region 3502917 - 4318859 len: 815942\n",
      "('HG02886#2#JAHAOT010000003.1', 'HG02886.maternal.f1_assembly_v2_genbank.fa', 33659657) target region 25612529 - 25968761 len: 356232\n",
      "('HG00673#1#JAHBBZ010000030.1', 'HG00673.paternal.f1_assembly_v2_genbank.fa', 56158886) target region 32028390 - 32824277 len: 795887\n",
      "('HG01071#2#JAHBCE010000076.1', 'HG01071.maternal.f1_assembly_v2_genbank.fa', 14785192) target region 6895908 - 7685015 len: 789107\n",
      "('HG02148#1#JAHAMG010000076.1', 'HG02148.paternal.f1_assembly_v2_genbank.fa', 56047404) target region 23140769 - 23938206 len: 797437\n",
      "('chr6_GL000251v2_alt_hg38', 'hg38_tagged.fa', 4795265) target region 3602845 - 4403203 len: 800358\n",
      "('NA20129#1#JAHEPE010000077.1', 'NA20129.paternal.f1_assembly_v2_genbank.fa', 27592746) target region 3426335 - 4225737 len: 799402\n",
      "('HG01891#1#JAGYVO010000024.1', 'HG01891.paternal.f1_assembly_v2_genbank.fa', 32274981) target region 25967087 - 26785111 len: 818024\n",
      "('HG002#1#JAHKSE010000066.1', 'HG002.paternal.f1_assembly_v2_genbank.fa', 32583635) target region 5444315 - 5742327 len: 298012\n",
      "('HG00621#2#JAHBCC010000005.1', 'HG00621.maternal.f1_assembly_v2_genbank.fa', 59876178) target region 32115696 - 32903256 len: 787560\n",
      "('HG02818#2#JAHEOR010000019.1', 'HG02818.maternal.f1_assembly_v2_genbank.fa', 18440780) target region 16915483 - 17713098 len: 797615\n",
      "('HG03579#1#JAGYVU010000035.1', 'HG03579.paternal.f1_assembly_v2_genbank.fa', 21125918) target region 16940123 - 17734844 len: 794721\n",
      "('HG00735#2#JAHBCG010000038.1', 'HG00735.maternal.f1_assembly_v2_genbank.fa', 31959602) target region 3503667 - 3800803 len: 297136\n",
      "('NA18906#2#JAHEON010000020.1', 'NA18906.maternal.f1_assembly_v2_genbank.fa', 29624882) target region 23346958 - 24162283 len: 815325\n",
      "('HG01952#2#JAHAMD010000016.1', 'HG01952.maternal.f1_assembly_v2_genbank.fa', 59464697) target region 32160890 - 32459032 len: 298142\n",
      "('HG02630#2#JAHAOP010000058.1', 'HG02630.maternal.f1_assembly_v2_genbank.fa', 24764972) target region 23131055 - 23500654 len: 369599\n",
      "('HG01361#1#JAGYYX010000108.1', 'HG01361.paternal.f1_assembly_v2_genbank.fa', 13154969) target region 6944105 - 7739347 len: 795242\n",
      "('HG02717#1#JAHAOS010000073.1', 'HG02717.paternal.f1_assembly_v2_genbank.fa', 32364301) target region 5416199 - 6229196 len: 812997\n",
      "('NA19240#2#JAHEOL010000047.1', 'NA19240.maternal.f1_assembly_v2_genbank.fa', 20513270) target region 3530359 - 4367914 len: 837555\n",
      "('chr6_GL000256v2_alt_hg38', 'hg38_tagged.fa', 4929269) target region 3481069 - 3778827 len: 297758\n",
      "('HG00673#2#JAHBBY010000031.1', 'HG00673.maternal.f1_assembly_v2_genbank.fa', 24834737) target region 734801 - 1474176 len: 739375\n",
      "('chr6_GL000255v2_alt_hg38', 'hg38_tagged.fa', 4606388) target region 3387694 - 4178743 len: 791049\n",
      "('NA19240#1#JAHEOM010000153.1', 'NA19240.paternal.f1_assembly_v2_genbank.fa', 5748104) target region 1451541 - 2246056 len: 794515\n",
      "('chr6_apd_hap1_hg19', 'hg19_tagged.fa', 4622290) target region 3447380 - 3761939 len: 314559\n",
      "('chr6_GL000254v2_alt_hg38', 'hg38_tagged.fa', 4827813) target region 3506514 - 4277282 len: 770768\n",
      "('HG01109#2#JAHEOZ010000001.1', 'HG01109.maternal.f1_assembly_v2_genbank.fa', 35424037) target region 27560048 - 28359916 len: 799868\n",
      "('chr6_mcf_hap5_hg19', 'hg19_tagged.fa', 4833398) target region 3512099 - 4282867 len: 770768\n",
      "('chr6_GL000253v2_alt_hg38', 'hg38_tagged.fa', 4677643) target region 3470053 - 3767796 len: 297743\n",
      "('HG02148#2#JAHAMF010000034.1', 'HG02148.maternal.f1_assembly_v2_genbank.fa', 27574774) target region 3417861 - 4208964 len: 791103\n",
      "('HG03486#1#JAHEOQ010000034.1', 'HG03486.paternal.f1_assembly_v2_genbank.fa', 27583779) target region 23355596 - 24150259 len: 794663\n",
      "('HG02109#1#JAHEPG010000124.1', 'HG02109.paternal.f1_assembly_v2_genbank.fa', 5653665) target region 3388333 - 4201417 len: 813084\n",
      "('HG01258#1#JAGYYV010000066.1', 'HG01258.paternal.f1_assembly_v2_genbank.fa', 40483040) target region 27171028 - 27969215 len: 798187\n",
      "('chr6_GL000252v2_alt_hg38', 'hg38_tagged.fa', 4604811) target region 3475869 - 3703833 len: 227964\n",
      "('HG02055#1#JAHEPK010000074.1', 'HG02055.paternal.f1_assembly_v2_genbank.fa', 27564723) target region 3492924 - 4219719 len: 726795\n",
      "('HG02486#2#JAGYVL010000026.1', 'HG02486.maternal.f1_assembly_v2_genbank.fa', 60776310) target region 32112628 - 32907289 len: 794661\n",
      "('HG02109#2#JAHEPF010000055.1', 'HG02109.maternal.f1_assembly_v2_genbank.fa', 9372866) target region 1436526 - 2191206 len: 754680\n",
      "('NA20129#2#JAHEPD010000054.1', 'NA20129.maternal.f1_assembly_v2_genbank.fa', 27332928) target region 23125343 - 23929432 len: 804089\n",
      "('HG02080#1#JAHEOW010000032.1', 'HG02080.paternal.f1_assembly_v2_genbank.fa', 56349618) target region 32203958 - 32997236 len: 793278\n",
      "('HG02572#1#JAHAOW010000052.1', 'HG02572.paternal.f1_assembly_v2_genbank.fa', 8124277) target region 189257 - 979210 len: 789953\n",
      "('HG01106#2#JAHAMB010000019.1', 'HG01106.maternal.f1_assembly_v2_genbank.fa', 123902156) target region 116016100 - 116806378 len: 790278\n",
      "('HG01071#1#JAHBCF010000092.1', 'HG01071.paternal.f1_assembly_v2_genbank.fa', 7272928) target region 6950885 - 7240236 len: 289351\n",
      "('chr6_chm13', 'chm13_tagged.fa', 172126628) target region 32018053 - 32812380 len: 794327\n",
      "('HG03579#2#JAGYVT010000002.1', 'HG03579.maternal.f1_assembly_v2_genbank.fa', 20167018) target region 3492400 - 4287049 len: 794649\n",
      "('HG02723#2#JAHEOT010000107.1', 'HG02723.maternal.f1_assembly_v2_genbank.fa', 27552632) target region 23141054 - 23422570 len: 281516\n",
      "('HG01361#2#JAGYYW010000059.1', 'HG01361.maternal.f1_assembly_v2_genbank.fa', 40042795) target region 32169967 - 32467732 len: 297765\n",
      "('HG02257#2#JAGYVH010000080.1', 'HG02257.maternal.f1_assembly_v2_genbank.fa', 32276632) target region 5412300 - 6222285 len: 809985\n",
      "('HG02717#2#JAHAOR010000061.1', 'HG02717.maternal.f1_assembly_v2_genbank.fa', 31157616) target region 23144624 - 23496198 len: 351574\n",
      "('HG02630#1#JAHAOQ010000088.1', 'HG02630.paternal.f1_assembly_v2_genbank.fa', 20219067) target region 15879189 - 16237163 len: 357974\n"
     ]
    }
   ],
   "source": [
    "rgn_lengths = []\n",
    "for k in list(aln_range.keys()):\n",
    "    b, e = aln_range[k][0][0:2]\n",
    "    print(sdb.seq_info[k], \"target region\", b, \"-\", e, \"len:\", e-b )\n",
    "    rgn_lengths.append(e-b)"
   ]
  },
  {
   "cell_type": "code",
   "execution_count": 10,
   "metadata": {},
   "outputs": [
    {
     "data": {
      "text/plain": [
       "Text(0, 0.5, 'count')"
      ]
     },
     "execution_count": 10,
     "metadata": {},
     "output_type": "execute_result"
    },
    {
     "data": {
      "image/png": "[encoded data removed]",
      "text/plain": [
       "<Figure size 432x288 with 1 Axes>"
      ]
     },
     "metadata": {
      "needs_background": "light"
     },
     "output_type": "display_data"
    }
   ],
   "source": [
    "plt.hist(rgn_lengths, bins=32);\n",
    "plt.xlabel(\"HLA Class II region size\")\n",
    "plt.ylabel(\"count\")"
   ]
  },
  {
   "cell_type": "markdown",
   "metadata": {},
   "source": [
    "Some mapped regions are larger, let's check the repeat / CNV by quick dot plots"
   ]
  },
  {
   "cell_type": "code",
   "execution_count": 11,
   "metadata": {},
   "outputs": [
    {
     "data": {
      "image/png": "[encoded data removed]",
      "text/plain": [
       "<Figure size 432x288 with 1 Axes>"
      ]
     },
     "metadata": {
      "needs_background": "light"
     },
     "output_type": "display_data"
    }
   ],
   "source": [
    "seq_list = []\n",
    "i = 0\n",
    "seq_info = sdb.seq_info.copy()\n",
    "for k in list(aln_range.keys()):\n",
    "    ctg_name, source, _ = seq_info[k]\n",
    "    seq_id = k\n",
    "    rgns = aln_range[k].copy()\n",
    "   \n",
    "    for rgn in rgns:\n",
    "        b, e, length, orientation, aln = rgn\n",
    "\n",
    "        seq =  sdb.get_sub_seq(source, ctg_name, b, e)\n",
    "       \n",
    "        if orientation == 1:\n",
    "            seq = pgrtk.rc_byte_seq(seq)\n",
    "  \n",
    "        seq_list.append((i, \"{}_{}_{}_{}\".format(ctg_name, b, e, orientation), seq))\n",
    "        \n",
    "        x, y = pgrtk.get_shmmr_dots(roi_seq, seq, 80, 56, 12, 1)\n",
    "        plt.plot(x, y, \".\", markersize=0.1)\n",
    "        i += 1\n",
    "\n"
   ]
  },
  {
   "cell_type": "markdown",
   "metadata": {},
   "source": [
    "## Create a new shimmer database for the detailed study"
   ]
  },
  {
   "cell_type": "code",
   "execution_count": 12,
   "metadata": {},
   "outputs": [],
   "source": [
    "seq_list = []\n",
    "i = 0\n",
    "for k in list(aln_range.keys()):\n",
    "    ctg_name, source, _ = seq_info[k]\n",
    "    seq_id = k\n",
    "    rgns = aln_range[k].copy()\n",
    "    \n",
    "    rgns = pgrtk.merge_regions(rgns,tol=1000)\n",
    "\n",
    "    for rgn in rgns:\n",
    "        b, e, length, orientation, aln = rgn\n",
    " \n",
    "        seq =  sdb.get_sub_seq(source, ctg_name, b, e)\n",
    "        if orientation == 1:\n",
    "            seq = pgrtk.rc_byte_seq(seq)\n",
    "  \n",
    "        seq_list.append((\"{}_{}_{}_{}\".format(ctg_name, b, e, orientation), seq))\n",
    "        \n",
    "        i += 1\n",
    "\n"
   ]
  },
  {
   "cell_type": "markdown",
   "metadata": {},
   "source": [
    "Create a shimmer indext database with smaller window (denser shimmers)"
   ]
  },
  {
   "cell_type": "code",
   "execution_count": 13,
   "metadata": {},
   "outputs": [],
   "source": [
    "new_sdb = pgrtk.SeqIndexDB() \n",
    "new_sdb.load_from_seq_list(seq_list, w=80, k=56, r=12, min_span=18)"
   ]
  },
  {
   "cell_type": "code",
   "execution_count": 14,
   "metadata": {},
   "outputs": [
    {
     "data": {
      "text/plain": [
       "147"
      ]
     },
     "execution_count": 14,
     "metadata": {},
     "output_type": "execute_result"
    }
   ],
   "source": [
    "len(new_sdb.seq_info)"
   ]
  },
  {
   "cell_type": "code",
   "execution_count": 15,
   "metadata": {},
   "outputs": [
    {
     "name": "stdout",
     "output_type": "stream",
     "text": [
      "The number of hits is 147\n",
      "The total aligned regions is 147\n"
     ]
    }
   ],
   "source": [
    "#find hits in the pangenomic reference\n",
    "aln_range0 = pgrtk.query_sdb(new_sdb, roi_seq, merge_range_tol=300000)\n",
    "\n",
    "aln_range = aln_range0\n",
    "\n",
    "print(\"The number of hits is\", len(aln_range))\n",
    "\n",
    "count = 0\n",
    "for sid, rgns in aln_range.items():\n",
    "    count += len(rgns)\n",
    "\n",
    "print(\"The total aligned regions is\", count)"
   ]
  },
  {
   "cell_type": "markdown",
   "metadata": {},
   "source": [
    "Let's loop through the hits (contigs that has alignments) and see the number of \"copies\"."
   ]
  },
  {
   "cell_type": "code",
   "execution_count": 16,
   "metadata": {},
   "outputs": [],
   "source": [
    "from collections import Counter"
   ]
  },
  {
   "cell_type": "code",
   "execution_count": 17,
   "metadata": {},
   "outputs": [
    {
     "name": "stdout",
     "output_type": "stream",
     "text": [
      "number of copy: 1, number of haplotypes: 147\n"
     ]
    }
   ],
   "source": [
    "n_copy = {}\n",
    "for k in list(aln_range.keys()):\n",
    "    n_copy[k] = len(aln_range[k])\n",
    "copy_count = Counter(n_copy.values())\n",
    "for nc, nh in copy_count.items():\n",
    "    print(\"number of copy: {}, number of haplotypes: {}\".format(nc, nh))"
   ]
  },
  {
   "cell_type": "code",
   "execution_count": 18,
   "metadata": {},
   "outputs": [
    {
     "data": {
      "text/plain": [
       "Text(0, 0.5, 'count')"
      ]
     },
     "execution_count": 18,
     "metadata": {},
     "output_type": "execute_result"
    },
    {
     "data": {
      "image/png": "[encoded data removed]",
      "text/plain": [
       "<Figure size 432x288 with 1 Axes>"
      ]
     },
     "metadata": {
      "needs_background": "light"
     },
     "output_type": "display_data"
    }
   ],
   "source": [
    "rgn_lengths = []\n",
    "for k in list(aln_range.keys()):\n",
    "    for sid, rgns in aln_range.items():\n",
    "        for rgn in rgns:\n",
    "            b, e = rgn[0:2]\n",
    "            #print(seq_index[k], \"target region\", b, \"-\", e, \"len:\", e-b )\n",
    "            rgn_lengths.append(e-b)\n",
    "plt.hist(rgn_lengths, bins=32);\n",
    "plt.xlabel(\"HLA Class II region size\")\n",
    "plt.ylabel(\"count\")"
   ]
  },
  {
   "cell_type": "code",
   "execution_count": 19,
   "metadata": {},
   "outputs": [
    {
     "name": "stdout",
     "output_type": "stream",
     "text": [
      "HG02818#1#JAHEOS010000026.1_3503365_4325934_0 Memory\n",
      "HG02148#2#JAHAMF010000034.1_3417861_4208964_0 Memory\n",
      "HG02257#1#JAGYVI010000022.1_27484494_28280971_1 Memory\n",
      "chr6_GL000256v2_alt_hg38_3481069_3778827_0 Memory\n",
      "HG00621#1#JAHBCD010000020.1_23360091_23711816_1 Memory\n",
      "HG02818#2#JAHEOR010000019.1_16915483_17713098_1 Memory\n",
      "HG01928#1#JAGYVQ010000020.1_27374381_27732067_1 Memory\n",
      "HG02145#2#JAHKSF010000005.1_3502917_4318859_0 Memory\n",
      "HG01123#1#JAGYYZ010000057.1_25895025_26182990_1 Memory\n",
      "HG01361#2#JAGYYW010000059.1_32800632_33087679_0 Memory\n",
      "chr6_ssto_hap7_hg19_4032775_4439545_0 Memory\n",
      "HG00733#1#JAHEPQ010000070.1_32136286_32923993_0 Memory\n",
      "HG02486#2#JAGYVL010000026.1_32112628_32907289_0 Memory\n",
      "HG00733#2#JAHEPP010000166.1_5000_204370_1 Memory\n",
      "chr6_GL000254v2_alt_hg38_3506514_4277282_0 Memory\n",
      "HG005#2#JAHEPN010000064.1_7595432_7953375_0 Memory\n",
      "HG02630#2#JAHAOP010000058.1_23131055_23500654_1 Memory\n",
      "HG02622#2#JAHAON010000041.1_32704698_33060395_0 Memory\n",
      "NA20129#1#JAHEPE010000077.1_3426335_4225737_0 Memory\n",
      "HG00741#1#JAHALY010000025.1_23365046_24159700_1 Memory\n",
      "HG01106#1#JAHAMC010000024.1_6939124_7736742_1 Memory\n",
      "HG01243#1#JAHEOY010000117.1_3438255_4238724_0 Memory\n",
      "chr6_chm13_32018053_32812380_0 Memory\n",
      "chr6_dbb_hap3_hg19_3951412_4240123_0 Memory\n",
      "chr6_GL000250v2_alt_hg38_3497464_3812023_0 Memory\n",
      "HG02109#1#JAHEPG010000124.1_3388333_4201417_0 Memory\n",
      "HG02055#2#JAHEPJ010000058.1_23120171_23914366_1 Memory\n",
      "HG00673#2#JAHBBY010000031.1_734801_1474176_0 Memory\n",
      "HG03516#2#JAGYYS010000003.1_32273514_33096539_0 Memory\n",
      "HG00735#2#JAHBCG010000038.1_3503667_3800803_0 Memory\n",
      "chr6_hg19_32131290_32959865_0 Memory\n",
      "HG02886#2#JAHAOT010000003.1_26225747_26525711_1 Memory\n",
      "HG00741#2#JAHALX010000077.1_25651940_26443114_1 Memory\n",
      "HG02717#2#JAHAOR010000061.1_23144624_23496198_1 Memory\n",
      "HG03098#2#JAHEPL010000070.1_23116735_23415017_1 Memory\n",
      "HG03453#1#JAGYVW010000148.1_1968603_2266612_1 Memory\n",
      "NA20129#2#JAHEPD010000054.1_23125343_23929432_1 Memory\n",
      "HG00438#2#JAHBCA010000042.1_23974572_24289464_1 Memory\n",
      "chr6_mcf_hap5_hg19_3512099_4282867_0 Memory\n",
      "HG005#1#JAHEPO010000054.1_5320458_5618569_0 Memory\n",
      "HG01361#1#JAGYYX010000108.1_6944105_7739347_1 Memory\n",
      "HG03098#1#JAHEPM010000086.1_23141672_23457242_1 Memory\n",
      "HG002#1#JAHKSE010000066.1_5444315_5742327_0 Memory\n",
      "NA21309#2#JAHEPB010000021.1_3340145_4140416_0 Memory\n",
      "HG01928#2#JAGYVP010000017.1_32654512_33012769_0 Memory\n",
      "HG01071#1#JAHBCF010000017.1_299013_597352_1 Memory\n",
      "HG02723#2#JAHEOT010000107.1_23141054_23422570_1 Memory\n",
      "chr6_mann_hap4_hg19_4126658_4409419_0 Memory\n",
      "HG03453#2#JAGYVV010000230.1_3402532_4193513_0 Memory\n",
      "chr6_GL000252v2_alt_hg38_3475869_3703833_0 Memory\n",
      "HG02080#2#JAHEOV010000002.1_23360926_23649661_1 Memory\n",
      "NA19240#1#JAHEOM010000153.1_1451541_2246056_1 Memory\n",
      "HG02559#1#JAGYVK010000047.1_32167236_32465007_0 Memory\n",
      "NA18906#2#JAHEON010000020.1_23346958_24162283_1 Memory\n",
      "HG03516#1#JAGYYT010000073.1_23126159_23920647_1 Memory\n",
      "HG01071#2#JAHBCE010000076.1_6895908_7685015_1 Memory\n",
      "HG01978#2#JAGYVR010000046.1_1449927_1807865_1 Memory\n",
      "HG02630#1#JAHAOQ010000088.1_15879189_16237163_1 Memory\n",
      "chr6_hg38_32163513_32992088_0 Memory\n",
      "HG03540#1#JAGYVY010000082.1_16945983_17757447_1 Memory\n",
      "HG02572#1#JAHAOW010000052.1_189257_979210_1 Memory\n",
      "HG01175#1#JAHAMA010000069.1_6945713_7774312_1 Memory\n",
      "chr6_GL000253v2_alt_hg38_4121038_4403799_0 Memory\n",
      "NA18906#1#JAHEOO010000017.1_28384491_29178977_1 Memory\n",
      "NA19240#2#JAHEOL010000047.1_3530359_4367914_0 Memory\n",
      "HG01358#1#JAGYZB010000008.1_7551447_7849561_1 Memory\n",
      "HG00621#2#JAHBCC010000005.1_32115696_32903256_0 Memory\n",
      "HG01978#1#JAGYVS010000035.1_32160188_32981440_0 Memory\n",
      "HG002#2#JAHKSD010000045.1_26179067_26986295_1 Memory\n",
      "HG02622#1#JAHAOO010000042.1_28115560_28413635_1 Memory\n",
      "HG01361#2#JAGYYW010000059.1_32169967_32467732_0 Memory\n",
      "chr6_ssto_hap7_hg19_3480367_3778125_0 Memory\n",
      "HG01175#2#JAHALZ010000032.1_23360059_24179654_1 Memory\n",
      "HG02055#1#JAHEPK010000074.1_3492924_4219719_0 Memory\n",
      "HG01243#2#JAHEOX010000097.1_26625704_27447351_1 Memory\n",
      "chr6_apd_hap1_hg19_3971218_4220350_0 Memory\n",
      "HG005#2#JAHEPN010000064.1_7040698_7339378_0 Memory\n",
      "HG01952#2#JAHAMD010000016.1_32713709_33064809_0 Memory\n",
      "HG02622#2#JAHAON010000041.1_32133713_32447811_0 Memory\n",
      "chr6_GL000251v2_alt_hg38_3602845_4403203_0 Memory\n",
      "chr6_cox_hap2_hg19_3602951_4403309_0 Memory\n",
      "HG02723#1#JAHEOU010000100.1_5052082_5841973_0 Memory\n",
      "HG02559#2#JAGYVJ010000064.1_32122253_32942017_0 Memory\n",
      "HG01071#1#JAHBCF010000092.1_6950885_7240236_1 Memory\n",
      "chr6_dbb_hap3_hg19_3481454_3709418_0 Memory\n",
      "HG02886#1#JAHAOU010000006.1_22522980_23317712_1 Memory\n",
      "HG03486#1#JAHEOQ010000034.1_23355596_24150259_1 Memory\n",
      "HG00733#2#JAHEPP010000060.1_26893186_27481359_1 Memory\n",
      "chr6_GL000256v2_alt_hg38_4033477_4440247_0 Memory\n",
      "HG00621#1#JAHBCD010000020.1_23966447_24265104_1 Memory\n",
      "HG03579#1#JAGYVU010000035.1_16940123_17734844_1 Memory\n",
      "HG01928#1#JAGYVQ010000020.1_27986731_28284846_1 Memory\n",
      "HG02886#2#JAHAOT010000003.1_25612529_25968761_1 Memory\n",
      "HG01123#1#JAGYYZ010000057.1_26515553_26813255_1 Memory\n",
      "HG02257#2#JAGYVH010000080.1_5412300_6222285_0 Memory\n",
      "HG03098#2#JAHEPL010000070.1_22510938_22862038_1 Memory\n",
      "HG03453#1#JAGYVW010000148.1_1359413_1711637_1 Memory\n",
      "HG02109#2#JAHEPF010000055.1_1436526_2191206_1 Memory\n",
      "HG00438#2#JAHBCA010000042.1_23361552_23719816_1 Memory\n",
      "HG01109#2#JAHEOZ010000001.1_27560048_28359916_1 Memory\n",
      "HG03492#2#JAHEPH010000100.1_3433872_4223369_0 Memory\n",
      "HG02630#2#JAHAOP010000058.1_23740053_24038216_1 Memory\n",
      "HG03098#1#JAHEPM010000086.1_22525026_22888592_1 Memory\n",
      "HG01891#1#JAGYVO010000024.1_25967087_26785111_1 Memory\n",
      "HG01891#2#JAGYVN010000027.1_27120084_27919956_1 Memory\n",
      "HG01928#2#JAGYVP010000017.1_32100107_32398425_0 Memory\n",
      "HG03492#1#JAHEPI010000049.1_15861252_16689804_1 Memory\n",
      "HG03579#2#JAGYVT010000002.1_3492400_4287049_0 Memory\n",
      "chr6_mann_hap4_hg19_3475673_3773416_0 Memory\n",
      "chr6_GL000250v2_alt_hg38_4021302_4270434_0 Memory\n",
      "HG01258#1#JAGYYV010000066.1_27171028_27969215_1 Memory\n",
      "HG01123#2#JAGYYY010000050.1_32147422_32970028_0 Memory\n",
      "chr6_GL000255v2_alt_hg38_3387694_4178743_0 Memory\n",
      "HG01358#2#JAGYZA010000082.1_6957238_7752650_1 Memory\n",
      "HG00735#2#JAHBCG010000038.1_4055466_4414241_0 Memory\n",
      "HG01109#1#JAHEPA010000084.1_27049277_27790253_1 Memory\n",
      "HG00673#1#JAHBBZ010000030.1_32028390_32824277_0 Memory\n",
      "chr6_qbl_hap6_hg19_3393290_4184339_0 Memory\n",
      "HG02717#2#JAHAOR010000061.1_23753078_24051118_1 Memory\n",
      "NA21309#1#JAHEPC010000026.1_3438116_4255912_0 Memory\n",
      "HG00438#1#JAHBCB010000040.1_23356561_24160522_1 Memory\n",
      "HG02080#1#JAHEOW010000032.1_32203958_32997236_0 Memory\n",
      "HG03540#2#JAGYVX010000013.1_23368683_24125419_1 Memory\n",
      "chr6_GL000253v2_alt_hg38_3470053_3767796_0 Memory\n",
      "HG005#1#JAHEPO010000054.1_5873324_6223697_0 Memory\n",
      "HG02717#1#JAHAOS010000073.1_5416199_6229196_0 Memory\n",
      "HG01358#1#JAGYZB010000008.1_6939649_7296770_1 Memory\n",
      "HG002#1#JAHKSE010000066.1_5997057_6348138_0 Memory\n",
      "HG02572#2#JAHAOV010000201.1_5332858_6134375_0 Memory\n",
      "HG03486#2#JAHEOP010000002.1_3432636_4232522_0 Memory\n",
      "HG02622#1#JAHAOO010000042.1_27501039_27783009_1 Memory\n",
      "HG02723#2#JAHEOT010000107.1_23755078_24052596_1 Memory\n",
      "HG01952#1#JAHAME010000044.1_27450161_28271020_1 Memory\n",
      "HG02145#1#JAHKSG010000017.1_6953506_7772155_1 Memory\n",
      "chr6_GL000252v2_alt_hg38_3945827_4234538_0 Memory\n",
      "HG02080#2#JAHEOV010000002.1_23982528_24280437_1 Memory\n",
      "chr6_apd_hap1_hg19_3447380_3761939_0 Memory\n",
      "HG02559#1#JAGYVK010000047.1_32719678_33069411_0 Memory\n",
      "HG01952#2#JAHAMD010000016.1_32160890_32459032_0 Memory\n",
      "HG01258#2#JAGYYU010000011.1_26230380_27044764_1 Memory\n",
      "HG02148#1#JAHAMG010000076.1_23140769_23938206_1 Memory\n",
      "HG01978#2#JAGYVR010000046.1_2063894_2361641_1 Memory\n",
      "HG02630#1#JAHAOQ010000088.1_16490203_16788417_1 Memory\n",
      "HG02486#1#JAGYVM010000005.1_26401396_27227220_1 Memory\n",
      "HG00735#1#JAHBCH010000013.1_32215406_33034378_0 Memory\n",
      "HG01106#2#JAHAMB010000019.1_116016100_116806378_1 Memory\n",
      "chr6_KI270758v1_alt_hg38_681_58584_1 Memory\n"
     ]
    }
   ],
   "source": [
    "f0 = open(\"/results/HLA-Class2_seq.fa\", \"w\")\n",
    "for sid in aln_range:\n",
    "    rgns = aln_range[sid]\n",
    "    c, s, _ = new_sdb.seq_info[sid]\n",
    "    print(c, s)\n",
    "    count = 0\n",
    "    for rgn in rgns:\n",
    "        b, e, l, orientation, alns = rgn\n",
    "        seq = new_sdb.get_sub_seq(s, c, b, e)\n",
    "        if orientation == 1:\n",
    "            seq = pgrtk.rc_byte_seq(seq)\n",
    "        \n",
    "        print(\">{}_{}_{} {}\".format(c, b, e, s), file=f0)\n",
    "        print(pgrtk.u8_to_string(seq), file=f0)\n",
    "       \n",
    "f0.close()"
   ]
  },
  {
   "cell_type": "code",
   "execution_count": 20,
   "metadata": {},
   "outputs": [
    {
     "name": "stdout",
     "output_type": "stream",
     "text": [
      "Help on built-in function generate_mapg_gfa:\n",
      "\n",
      "generate_mapg_gfa(...) method of builtins.SeqIndexDB instance\n",
      "    Convert the adjecent list of the shimmer graph shimmer_pair -> GFA\n",
      "    \n",
      "    Parameters\n",
      "    ----------\n",
      "    min_count : int\n",
      "        the minimum number of times a pair of shimmers must be observed to be included in the graph\n",
      "    \n",
      "    filenpath : string\n",
      "        the path to the output file\n",
      "    \n",
      "    Returns\n",
      "    -------\n",
      "    \n",
      "    None\n",
      "        The data is written into the file at filepath\n",
      "\n"
     ]
    }
   ],
   "source": [
    "help(new_sdb.generate_mapg_gfa)"
   ]
  },
  {
   "cell_type": "code",
   "execution_count": 21,
   "metadata": {},
   "outputs": [],
   "source": [
    "new_sdb.generate_mapg_gfa(0, \"/results/HLA-ClassII.gfa\")"
   ]
  },
  {
   "cell_type": "markdown",
   "metadata": {},
   "source": [
    "## Construct the genome graphs"
   ]
  },
  {
   "cell_type": "code",
   "execution_count": 22,
   "metadata": {},
   "outputs": [],
   "source": [
    "import networkx as nx\n",
    "from networkx.drawing import nx_pydot "
   ]
  },
  {
   "cell_type": "code",
   "execution_count": 23,
   "metadata": {},
   "outputs": [],
   "source": [
    "def get_graph(seq_list, w=128, k=56, r=4, min_span=1, highlite=0):\n",
    "    new_sdb = pgrtk.SeqIndexDB() \n",
    "    new_sdb.load_from_seq_list(seq_list, w=w, k=k, r=r, min_span=8)\n",
    "    new_sdb.generate_mapg_gfa(0, f\"/results/{name}-{w}-{k}-{r}.gfa\")\n",
    "    sid_to_path = {}\n",
    "    spl=new_sdb.get_shmmr_pair_list()\n",
    "    for (k0, k1, sid, p0, p1, o) in spl:\n",
    "        sid_to_path.setdefault(sid,[])\n",
    "        sid_to_path[sid].append((p0, p1, o, k0, k1))\n",
    "    G = nx.DiGraph()\n",
    "    m = new_sdb.get_shmmr_map()\n",
    "    for sid, path in sid_to_path.items():\n",
    "        #print(sid)\n",
    "        path.sort()\n",
    "        v = path[0]\n",
    "        #if sid != 45:\n",
    "        #    continue\n",
    "        for w in path[1:]:\n",
    "            v = tuple(v[-2:])\n",
    "            w = tuple(w[-2:])\n",
    "            color = \"yellow\"\n",
    "            penwidth =  2 + 0.1 * (len(m[v]) * len(m[w])) ** 0.5\n",
    "            G.add_edge(v, w, penwidth = penwidth, color=\"orange\" )\n",
    "            G.add_node(v, fillcolor=color, style=\"filled\")\n",
    "            #G.add_node(w, size =  len(m[v]))\n",
    "            v = w\n",
    "    for sid, path in sid_to_path.items():\n",
    "        #print(sid)\n",
    "        path.sort()\n",
    "        v = path[0]\n",
    "        if sid != highlite:\n",
    "            continue\n",
    "        for w in path[1:]:\n",
    "            v = tuple(v[-2:])\n",
    "            w = tuple(w[-2:])\n",
    "            color = \"blue\"\n",
    "            penwidth =  2 + 0.1 * (len(m[v]) * len(m[w])) ** 0.5\n",
    "            G.add_node(v, fillcolor=color, style=\"filled\")\n",
    "            G.add_edge(v, w, penwidth = penwidth, color=color )\n",
    "            v = w\n",
    "    return G\n",
    "    "
   ]
  },
  {
   "cell_type": "code",
   "execution_count": 24,
   "metadata": {},
   "outputs": [],
   "source": [
    "def get_graph2(seq_list, w=128, k=56, r=4, min_span=1, highlite=0):\n",
    "    new_sdb = pgrtk.SeqIndexDB() \n",
    "    new_sdb.load_from_seq_list(seq_list, w=w, k=k, r=r, min_span=8)\n",
    "    new_sdb.generate_mapg_gfa(0, f\"/results/{name}-{w}-{k}-{r}.gfa\")\n",
    "    sid_to_path = {}\n",
    "    spl=new_sdb.get_shmmr_pair_list()\n",
    "    for (k0, k1, sid, p0, p1, o) in spl:\n",
    "        sid_to_path.setdefault(sid,[])\n",
    "        sid_to_path[sid].append((p0, p1, o, k0, k1))\n",
    "    G = nx.DiGraph()\n",
    "    m = new_sdb.get_shmmr_map()\n",
    "    for sid, path in sid_to_path.items():\n",
    "        #print(sid)\n",
    "        path.sort()\n",
    "        v = path[0]\n",
    "        #if sid != 45:\n",
    "        #    continue\n",
    "        for w in path[1:]:\n",
    "            v = tuple(v[-2:])\n",
    "            w = tuple(w[-2:])\n",
    "            color = \"yellow\"\n",
    "            penwidth =  1 + 0.03 * (len(m[v]) * len(m[w])) ** 0.5\n",
    "            G.add_edge(v, w, penwidth = penwidth, color=\"orange\" )\n",
    "            G.add_edge(w, v, penwidth = penwidth, color=\"orange\" )\n",
    "            G.add_node(v, fillcolor=color, style=\"filled\")\n",
    "            #G.add_node(w, size =  len(m[v]))\n",
    "            v = w\n",
    "            \n",
    "    for sid, path in sid_to_path.items():\n",
    "        #print(sid)\n",
    "        path.sort()\n",
    "        v = path[0]\n",
    "        if sid != highlite:\n",
    "            continue\n",
    "        for w in path[1:]:\n",
    "            v = tuple(v[-2:])\n",
    "            w = tuple(w[-2:])\n",
    "            color = \"blue\"\n",
    "            penwidth =  1 + 0.05 * (len(m[v]) * len(m[w])) ** 0.5\n",
    "            G.add_node(v, fillcolor=color, style=\"filled\")\n",
    "            G.add_edge(v, w, penwidth = penwidth, color=color )\n",
    "            G.add_edge(w, v, penwidth = penwidth, color=color )\n",
    "            v = w\n",
    "    return G\n",
    "    "
   ]
  },
  {
   "cell_type": "code",
   "execution_count": 25,
   "metadata": {},
   "outputs": [],
   "source": [
    "for ht in (0, 1, 2, 5,):\n",
    "    w=128; k=56; r=12;\n",
    "    name=\"HLA-ClassII\"\n",
    "    G = get_graph2(seq_list, w=w, k=k, r=r, highlite=ht)\n",
    "    \n",
    "    #nx.write_gexf(G, f\"/results/{name}-{w}-{k}-{r}.gexf\")\n",
    "    \n",
    "    ## very slow for graphviz to layout, remove comment to execute\n",
    "    \n",
    "    #nx_pydot.write_dot(G, f\"{name}-{w}-{k}-{r}.dot\")\n",
    "    \n",
    "    ## for this version of graphviz, we need to create PDF to get the bounding box right\n",
    "    \n",
    "    #os.system(f\"\"\"neato -Tpdf {name}-{w}-{k}-{r}.dot -x -Grankdir=LR -Gsize=64,64 \\\n",
    "    #-Nfixedsize=true -Nwidth=.5 -Nheight=.5 -Nlabel=\"\" > {name}-{w}-{k}-{r}-h{ht}.pdf\"\"\")\n",
    "    #os.system(f\"\"\"pdf2svg {name}-{w}-{k}-{r}-h{ht}.pdf {name}-{w}-{k}-{r}-h{ht}.svg\"\"\")"
   ]
  },
  {
   "cell_type": "code",
   "execution_count": 26,
   "metadata": {},
   "outputs": [],
   "source": [
    "for r in (2, 8, 12):\n",
    "    w=128; k=32;\n",
    "    name=\"HLA-ClassII\"\n",
    "    \n",
    "    G = get_graph(seq_list, w=w, k=k, r=r, highlite=83)\n",
    "    \n",
    "    ## very slow for graphviz to layout, remove comment to execute\n",
    "    \n",
    "    #nx_pydot.write_dot(G, f\"{name}-{w}-{k}-{r}.dot\")\n",
    "    \n",
    "    ## for this version of graphviz, we need to create PDF to get the bounding box right\n",
    "    #os.system(f\"\"\"dot -Tpdf {name}-{w}-{k}-{r}.dot -x -Grankdir=LR -Gsize=64,64 \\\n",
    "    \n",
    "    #-Nfixedsize=true -Nwidth=.5 -Nheight=.5 -Nlabel=\"\" > {name}-{w}-{k}-{r}.pdf\"\"\")\n",
    "    #os.system(f\"\"\"pdf2svg {name}-{w}-{k}-{r}.pdf {name}-{w}-{k}-{r}.svg\"\"\")"
   ]
  },
  {
   "cell_type": "code",
   "execution_count": null,
   "metadata": {},
   "outputs": [],
   "source": []
  }
 ],
 "metadata": {
  "kernelspec": {
   "display_name": "Python 3",
   "language": "python",
   "name": "python3"
  },
  "language_info": {
   "codemirror_mode": {
    "name": "ipython",
    "version": 3
   },
   "file_extension": ".py",
   "mimetype": "text/x-python",
   "name": "python",
   "nbconvert_exporter": "python",
   "pygments_lexer": "ipython3",
   "version": "3.8.5"
  }
 },
 "nbformat": 4,
 "nbformat_minor": 4
}
