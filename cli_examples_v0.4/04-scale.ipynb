{
 "cells": [
  {
   "cell_type": "code",
   "execution_count": 1,
   "id": "466fb64b-c223-4830-be1f-2d75c7b2907d",
   "metadata": {},
   "outputs": [],
   "source": [
    "%%bash\n",
    "name=\"WBS\"\n",
    "tid=\"005\"\n",
    "/wd/code/pgr-pbundle-decomp -w 48 -k 56 -r 6 --min-span 12\\\n",
    "     --bundle-length-cutoff 100 --min-branch-size 8 /wd/results/pgr-out/pg_seqs.${tid}.fa \\\n",
    "    /wd/results/pgr-out/${name}_pg_seqs.${tid}.2. \\\n",
    "    --min-cov 0 --include /wd/results/pgr-out/${name}_included_ctgs.${tid}\n",
    "\n"
   ]
  },
  {
   "cell_type": "code",
   "execution_count": 2,
   "id": "213af924-503e-4531-865e-ec5d9fffa5c5",
   "metadata": {},
   "outputs": [],
   "source": [
    "\n",
    "%%bash\n",
    "name=\"WBS\"\n",
    "tid=\"005\"\n",
    "/wd/code/pgr-pbundle-bed2dist /wd/results/pgr-out/${name}_pg_seqs.${tid}.2.bed \\\n",
    "    /wd/results/pgr-out/${name}_pg_seqs.${tid}.2.\n"
   ]
  },
  {
   "cell_type": "code",
   "execution_count": 3,
   "id": "533796a9-740e-44dd-8d0e-588a73a29266",
   "metadata": {},
   "outputs": [],
   "source": [
    "\n",
    "%%bash\n",
    "name=\"WBS\"\n",
    "tid=\"005\"\n",
    "cat /wd/results/pgr-out/${name}_pg_seqs.${tid}.ord2 | grep chm13 > /wd/results/pgr-out/${name}_pg_seqs.${tid}.ord3\n",
    "cat /wd/results/pgr-out/${name}_pg_seqs.${tid}.ord2 | grep hg38 >> /wd/results/pgr-out/${name}_pg_seqs.${tid}.ord3\n",
    "cat /wd/results/pgr-out/${name}_pg_seqs.${tid}.ord2 | grep HG00 | head -3 >> /wd/results/pgr-out/${name}_pg_seqs.${tid}.ord3\n",
    "cat /wd/results/pgr-out/${name}_pg_seqs.${tid}.ord2 | grep HG01 | head -3 >> /wd/results/pgr-out/${name}_pg_seqs.${tid}.ord3\n",
    "\n",
    "/wd/code/pgr-pbundle-bed2svg  \\\n",
    "    /wd/results/pgr-out/${name}_pg_seqs.${tid}.bed \\\n",
    "    /wd/results/pgr-out/svg/${name}_pg_seqs.${tid}.1.hc. \\\n",
    "    --track-range 3000000  --track-tick-interval 1000000  --track-panel-width 800 --stroke-width 0.5   \\\n",
    "    --annotations /wd/results/pgr-out/${name}_pg_seqs.${tid}.ord3 \\\n",
    "    --highlight-repeats 2\n",
    "\n",
    "\n",
    "/wd/code/pgr-pbundle-bed2svg  \\\n",
    "    /wd/results/pgr-out/${name}_pg_seqs.${tid}.2.bed \\\n",
    "    /wd/results/pgr-out/svg/${name}_pg_seqs.${tid}.2.hc. \\\n",
    "    --track-range 3000000  --track-tick-interval 1000000  --track-panel-width 800 --stroke-width 0.5   \\\n",
    "    --annotations /wd/results/pgr-out/${name}_pg_seqs.${tid}.ord3 \\\n",
    "    --highlight-repeats 2"
   ]
  },
  {
   "cell_type": "code",
   "execution_count": null,
   "id": "cee6831d-7db5-4dd7-8471-9c64eb48761d",
   "metadata": {},
   "outputs": [],
   "source": []
  },
  {
   "cell_type": "code",
   "execution_count": 4,
   "id": "104eec53-7960-44e5-a21e-be96f4af5997",
   "metadata": {},
   "outputs": [],
   "source": [
    "%%bash\n",
    "name=\"LPA\"\n",
    "tid=\"003\"\n",
    "/wd/code/pgr-pbundle-decomp -w 48 -k 56 -r 12 --min-span 12\\\n",
    "     --bundle-length-cutoff 100 --min-branch-size 8 /wd/results/pgr-out/pg_seqs.${tid}.fa \\\n",
    "    /wd/results/pgr-out/${name}_pg_seqs.${tid}.2. \\\n",
    "    --min-cov 0 --include /wd/results/pgr-out/${name}_included_ctgs.${tid}\n",
    "\n"
   ]
  },
  {
   "cell_type": "code",
   "execution_count": 5,
   "id": "b9a1bcab-5093-46b0-ba74-0cadd8d27a1a",
   "metadata": {},
   "outputs": [],
   "source": [
    "\n",
    "%%bash\n",
    "name=\"LPA\"\n",
    "tid=\"003\"\n",
    "/wd/code/pgr-pbundle-bed2dist /wd/results/pgr-out/${name}_pg_seqs.${tid}.2.bed \\\n",
    "    /wd/results/pgr-out/${name}_pg_seqs.${tid}.2.\n"
   ]
  },
  {
   "cell_type": "code",
   "execution_count": 6,
   "id": "be82771a-4f1e-4387-93e6-49ff6bbf0fd4",
   "metadata": {},
   "outputs": [],
   "source": [
    "\n",
    "%%bash\n",
    "name=\"LPA\"\n",
    "tid=\"003\"\n",
    "cat /wd/results/pgr-out/${name}_pg_seqs.${tid}.ord2 | grep chm13 > /wd/results/pgr-out/${name}_pg_seqs.${tid}.ord3\n",
    "cat /wd/results/pgr-out/${name}_pg_seqs.${tid}.ord2 | grep hg38 >> /wd/results/pgr-out/${name}_pg_seqs.${tid}.ord3\n",
    "cat /wd/results/pgr-out/${name}_pg_seqs.${tid}.ord2 | grep HG00 | head -3 >> /wd/results/pgr-out/${name}_pg_seqs.${tid}.ord3\n",
    "cat /wd/results/pgr-out/${name}_pg_seqs.${tid}.ord2 | grep HG01 | head -3 >> /wd/results/pgr-out/${name}_pg_seqs.${tid}.ord3\n",
    "\n",
    "/wd/code/pgr-pbundle-bed2svg  \\\n",
    "    /wd/results/pgr-out/${name}_pg_seqs.${tid}.bed \\\n",
    "    /wd/results/pgr-out/svg/${name}_pg_seqs.${tid}.1.hc. \\\n",
    "    --track-range 270000  --track-tick-interval 100000  --track-panel-width 800 --stroke-width 0.5   \\\n",
    "    --annotations /wd/results/pgr-out/${name}_pg_seqs.${tid}.ord3 \\\n",
    "    --highlight-repeats 2\n",
    "\n",
    "\n",
    "/wd/code/pgr-pbundle-bed2svg  \\\n",
    "    /wd/results/pgr-out/${name}_pg_seqs.${tid}.2.bed \\\n",
    "    /wd/results/pgr-out/svg/${name}_pg_seqs.${tid}.2.hc. \\\n",
    "    --track-range 270000  --track-tick-interval 100000  --track-panel-width 800 --stroke-width 0.5   \\\n",
    "    --annotations /wd/results/pgr-out/${name}_pg_seqs.${tid}.ord3 \\\n",
    "    --highlight-repeats 2"
   ]
  },
  {
   "cell_type": "code",
   "execution_count": null,
   "id": "8875ab01-ef6a-4d55-8523-a7df766dc130",
   "metadata": {},
   "outputs": [],
   "source": []
  },
  {
   "cell_type": "code",
   "execution_count": null,
   "id": "9e458654-3eef-4dc0-a094-fb92950fef0c",
   "metadata": {},
   "outputs": [],
   "source": []
  }
 ],
 "metadata": {
  "kernelspec": {
   "display_name": "Python 3 (ipykernel)",
   "language": "python",
   "name": "python3"
  },
  "language_info": {
   "codemirror_mode": {
    "name": "ipython",
    "version": 3
   },
   "file_extension": ".py",
   "mimetype": "text/x-python",
   "name": "python",
   "nbconvert_exporter": "python",
   "pygments_lexer": "ipython3",
   "version": "3.8.10"
  }
 },
 "nbformat": 4,
 "nbformat_minor": 5
}
