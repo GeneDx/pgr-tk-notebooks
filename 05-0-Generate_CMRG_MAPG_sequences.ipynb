{
 "cells": [
  {
   "cell_type": "code",
   "execution_count": 1,
   "id": "c63ecac1",
   "metadata": {},
   "outputs": [
    {
     "name": "stderr",
     "output_type": "stream",
     "text": [
      "\tCommand being timed: \"python map_intervals_grch38.py\"\n",
      "\tUser time (seconds): 1848.31\n",
      "\tSystem time (seconds): 182.87\n",
      "\tPercent of CPU this job got: 154%\n",
      "\tElapsed (wall clock) time (h:mm:ss or m:ss): 21:55.18\n",
      "\tAverage shared text size (kbytes): 0\n",
      "\tAverage unshared data size (kbytes): 0\n",
      "\tAverage stack size (kbytes): 0\n",
      "\tAverage total size (kbytes): 0\n",
      "\tMaximum resident set size (kbytes): 38262844\n",
      "\tAverage resident set size (kbytes): 0\n",
      "\tMajor (requiring I/O) page faults: 0\n",
      "\tMinor (reclaiming a frame) page faults: 24882602\n",
      "\tVoluntary context switches: 11140288\n",
      "\tInvoluntary context switches: 620205\n",
      "\tSwaps: 0\n",
      "\tFile system inputs: 16\n",
      "\tFile system outputs: 12478080\n",
      "\tSocket messages sent: 0\n",
      "\tSocket messages received: 0\n",
      "\tSignals delivered: 0\n",
      "\tPage size (bytes): 4096\n",
      "\tExit status: 0\n"
     ]
    },
    {
     "name": "stdout",
     "output_type": "stream",
     "text": [
      "CPU times: user 30.7 ms, sys: 16.3 ms, total: 47 ms\n",
      "Wall time: 21min 55s\n"
     ]
    }
   ],
   "source": [
    "%%time\n",
    "%%bash\n",
    "# pip install --force /code/pgrtk-0.3.3-cp38-cp38-linux_x86_64.whl\n",
    "cd /results/\n",
    "cp /code/map_intervals_grch38.py .\n",
    "cp /code/input.bed .\n",
    "ln -sf /data/pgr-tk-HGRP-y1-evaluation-set-v0.* .\n",
    "\\time -v python map_intervals_grch38.py > out.txt "
   ]
  },
  {
   "cell_type": "code",
   "execution_count": null,
   "id": "071228c3",
   "metadata": {},
   "outputs": [],
   "source": []
  }
 ],
 "metadata": {
  "kernelspec": {
   "display_name": "Python 3",
   "language": "python",
   "name": "python3"
  },
  "language_info": {
   "codemirror_mode": {
    "name": "ipython",
    "version": 3
   },
   "file_extension": ".py",
   "mimetype": "text/x-python",
   "name": "python",
   "nbconvert_exporter": "python",
   "pygments_lexer": "ipython3",
   "version": "3.8.5"
  }
 },
 "nbformat": 4,
 "nbformat_minor": 5
}
