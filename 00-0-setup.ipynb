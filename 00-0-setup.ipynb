{
 "cells": [
  {
   "cell_type": "code",
   "execution_count": 1,
   "id": "6da0917c",
   "metadata": {},
   "outputs": [],
   "source": [
    "!ln -sf /data/pgr-tk-HGRP-y1-evaluation-set-v0/* /data"
   ]
  },
  {
   "cell_type": "code",
   "execution_count": 2,
   "id": "651cb4a8",
   "metadata": {},
   "outputs": [
    {
     "name": "stdout",
     "output_type": "stream",
     "text": [
      "Processing /code/pgrtk-0.3.4-cp38-cp38-linux_x86_64.whl\n",
      "Installing collected packages: pgrtk\n",
      "Successfully installed pgrtk-0.3.4\n"
     ]
    }
   ],
   "source": [
    "!pip install /code/pgrtk-0.3.4-cp38-cp38-linux_x86_64.whl "
   ]
  },
  {
   "cell_type": "code",
   "execution_count": null,
   "id": "ef37b6f8",
   "metadata": {},
   "outputs": [],
   "source": []
  },
  {
   "cell_type": "code",
   "execution_count": null,
   "id": "2cd70928",
   "metadata": {},
   "outputs": [],
   "source": []
  }
 ],
 "metadata": {
  "kernelspec": {
   "display_name": "Python 3",
   "language": "python",
   "name": "python3"
  },
  "language_info": {
   "codemirror_mode": {
    "name": "ipython",
    "version": 3
   },
   "file_extension": ".py",
   "mimetype": "text/x-python",
   "name": "python",
   "nbconvert_exporter": "python",
   "pygments_lexer": "ipython3",
   "version": "3.8.5"
  }
 },
 "nbformat": 4,
 "nbformat_minor": 5
}
